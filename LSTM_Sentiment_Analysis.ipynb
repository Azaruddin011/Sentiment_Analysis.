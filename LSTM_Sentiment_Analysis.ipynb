{
 "cells": [
  {
   "cell_type": "code",
   "execution_count": 1,
   "id": "95f49248",
   "metadata": {},
   "outputs": [],
   "source": [
    "import pandas as pd\n",
    "import numpy as np\n",
    "import re\n",
    "import tensorflow as tf\n",
    "from sklearn.model_selection import train_test_split\n",
    "from sklearn.preprocessing import LabelEncoder\n",
    "from tensorflow.keras.preprocessing.text import Tokenizer\n",
    "from tensorflow.keras.preprocessing.sequence import pad_sequences\n",
    "from transformers import BertTokenizer, TFBertForSequenceClassification\n",
    "from tensorflow.keras.models import Sequential\n",
    "from tensorflow.keras.layers import Embedding, LSTM, Dense"
   ]
  },
  {
   "cell_type": "code",
   "execution_count": 2,
   "id": "57d31352",
   "metadata": {},
   "outputs": [],
   "source": [
    "train_df = pd.read_csv('/Users/azaruddin.sk/Desktop/YUbi/NLP Task/train.tsv', sep='\\t')\n",
    "test_df = pd.read_csv('/Users/azaruddin.sk/Desktop/YUbi/NLP Task/test.tsv', sep='\\t')\n",
    "\n",
    "#print(train_df.isnull().sum())\n",
    "#print(test_df.isnull().sum())\n",
    "\n",
    "test_df = test_df.drop(columns=['Sector'])\n",
    "train_df['News Title'].fillna('', inplace=True)\n",
    "train_df['News Description'].fillna('', inplace=True)\n",
    "test_df['News Title'].fillna('', inplace=True)\n",
    "test_df['News Description'].fillna('', inplace=True)\n",
    "\n",
    "train_df['text'] = train_df['News Title'] + \" \" + train_df['News Description']\n",
    "test_df['text'] = test_df['News Title'] + \" \" + test_df['News Description']"
   ]
  },
  {
   "cell_type": "code",
   "execution_count": 3,
   "id": "621b9499",
   "metadata": {},
   "outputs": [
    {
     "name": "stderr",
     "output_type": "stream",
     "text": [
      "[nltk_data] Downloading package wordnet to\n",
      "[nltk_data]     /Users/azaruddin.sk/nltk_data...\n",
      "[nltk_data]   Package wordnet is already up-to-date!\n",
      "[nltk_data] Downloading package stopwords to\n",
      "[nltk_data]     /Users/azaruddin.sk/nltk_data...\n",
      "[nltk_data]   Package stopwords is already up-to-date!\n"
     ]
    }
   ],
   "source": [
    "from nltk.tokenize import RegexpTokenizer  #tokenizer library regexptokenizer to remove punctuation\n",
    "import nltk\n",
    "nltk.download('wordnet')\n",
    "from nltk.stem import WordNetLemmatizer\n",
    "nltk.download('stopwords')\n",
    "stop_words = list(set(nltk.corpus.stopwords.words('english'))) #decalred stop_words as variable for getting stopwords from english langaugae & added set() function to remove duplicate stop_words\n",
    "lemmatizer = WordNetLemmatizer()\n",
    "\n",
    "def text_preprocess(input_text):\n",
    "    if not isinstance(input_text, str):\n",
    "        return \"\"\n",
    "    input_text = input_text.lower()\n",
    "    input_text = input_text.replace(\"\\n\",\" \")\n",
    "    tokenizer = RegexpTokenizer(r'\\w+')\n",
    "    tokens = tokenizer.tokenize(input_text)\n",
    "    clean_tokens = []\n",
    "    for token in tokens:\n",
    "        if (token not in stop_words) and (len(token) >2):\n",
    "            token = lemmatizer.lemmatize(token)\n",
    "            clean_tokens.append(token)\n",
    "    return \" \".join(clean_tokens)"
   ]
  },
  {
   "cell_type": "code",
   "execution_count": 4,
   "id": "b23e14b1",
   "metadata": {},
   "outputs": [],
   "source": [
    "clean_text = []\n",
    "for text in train_df['text'].values:\n",
    "    cl_txt = text_preprocess(text)\n",
    "    clean_text.append(cl_txt)\n",
    "train_df['clean_text'] = clean_text\n",
    "\n",
    "\n",
    "pre_text = []\n",
    "for text in test_df['text'].values:\n",
    "    cl_txt = text_preprocess(text)\n",
    "    pre_text.append(cl_txt)\n",
    "test_df['clean_text'] = pre_text"
   ]
  },
  {
   "cell_type": "code",
   "execution_count": 14,
   "id": "6ff1f0e1",
   "metadata": {},
   "outputs": [],
   "source": [
    "label_encoder = LabelEncoder()\n",
    "train_df['Sentiment'] = label_encoder.fit_transform(train_df['Sentiment'])"
   ]
  },
  {
   "cell_type": "code",
   "execution_count": 6,
   "id": "d2835c37",
   "metadata": {},
   "outputs": [],
   "source": [
    "X_train, X_val, y_train, y_val = train_test_split(train_df['clean_text'], train_df['Sentiment'], test_size=0.2, random_state=42)\n",
    "\n",
    "\n",
    "max_words = 10000  # Number of words to consider as features\n",
    "max_len = 150  # Maximum length of sequences\n",
    "tokenizer = Tokenizer(num_words=max_words)\n",
    "\n",
    "tokenizer = Tokenizer(num_words=max_words)\n",
    "tokenizer.fit_on_texts(X_train)\n",
    "X_train_seq = tokenizer.texts_to_sequences(X_train)\n",
    "X_val_seq = tokenizer.texts_to_sequences(X_val)\n",
    "X_test_seq = tokenizer.texts_to_sequences(test_df['clean_text'])\n",
    "\n",
    "X_train_pad = pad_sequences(X_train_seq, maxlen=max_len)\n",
    "X_val_pad = pad_sequences(X_val_seq, maxlen=max_len)\n",
    "X_test_pad = pad_sequences(X_test_seq, maxlen=max_len)"
   ]
  },
  {
   "cell_type": "code",
   "execution_count": 7,
   "id": "cd899877",
   "metadata": {},
   "outputs": [
    {
     "name": "stdout",
     "output_type": "stream",
     "text": [
      "Epoch 1/5\n"
     ]
    },
    {
     "name": "stderr",
     "output_type": "stream",
     "text": [
      "/Users/azaruddin.sk/anaconda3/lib/python3.11/site-packages/keras/src/layers/core/embedding.py:90: UserWarning: Argument `input_length` is deprecated. Just remove it.\n",
      "  warnings.warn(\n"
     ]
    },
    {
     "name": "stdout",
     "output_type": "stream",
     "text": [
      "\u001b[1m4544/4544\u001b[0m \u001b[32m━━━━━━━━━━━━━━━━━━━━\u001b[0m\u001b[37m\u001b[0m \u001b[1m711s\u001b[0m 156ms/step - accuracy: 0.7837 - loss: 0.5413 - val_accuracy: 0.8280 - val_loss: 0.4140\n",
      "Epoch 2/5\n",
      "\u001b[1m4544/4544\u001b[0m \u001b[32m━━━━━━━━━━━━━━━━━━━━\u001b[0m\u001b[37m\u001b[0m \u001b[1m942s\u001b[0m 207ms/step - accuracy: 0.8444 - loss: 0.3749 - val_accuracy: 0.8272 - val_loss: 0.4165\n",
      "Epoch 3/5\n",
      "\u001b[1m4544/4544\u001b[0m \u001b[32m━━━━━━━━━━━━━━━━━━━━\u001b[0m\u001b[37m\u001b[0m \u001b[1m909s\u001b[0m 200ms/step - accuracy: 0.8640 - loss: 0.3286 - val_accuracy: 0.8308 - val_loss: 0.4105\n",
      "Epoch 4/5\n",
      "\u001b[1m4544/4544\u001b[0m \u001b[32m━━━━━━━━━━━━━━━━━━━━\u001b[0m\u001b[37m\u001b[0m \u001b[1m775s\u001b[0m 170ms/step - accuracy: 0.8831 - loss: 0.2843 - val_accuracy: 0.8286 - val_loss: 0.4442\n",
      "Epoch 5/5\n",
      "\u001b[1m4544/4544\u001b[0m \u001b[32m━━━━━━━━━━━━━━━━━━━━\u001b[0m\u001b[37m\u001b[0m \u001b[1m785s\u001b[0m 173ms/step - accuracy: 0.9034 - loss: 0.2385 - val_accuracy: 0.8245 - val_loss: 0.4866\n"
     ]
    }
   ],
   "source": [
    "model = Sequential()\n",
    "model.add(Embedding(max_words, 128, input_length=max_len))  \n",
    "model.add(LSTM(128, return_sequences=True))\n",
    "model.add(LSTM(64))\n",
    "model.add(Dense(4, activation='softmax'))\n",
    "\n",
    "model.compile(optimizer='adam', loss='sparse_categorical_crossentropy', metrics=['accuracy'])\n",
    "history = model.fit(X_train_pad, y_train, epochs=5, batch_size=32, validation_data=(X_val_pad, y_val))"
   ]
  },
  {
   "cell_type": "code",
   "execution_count": 8,
   "id": "a6657e0d",
   "metadata": {},
   "outputs": [
    {
     "name": "stdout",
     "output_type": "stream",
     "text": [
      "\u001b[1m242/242\u001b[0m \u001b[32m━━━━━━━━━━━━━━━━━━━━\u001b[0m\u001b[37m\u001b[0m \u001b[1m11s\u001b[0m 43ms/step\n"
     ]
    }
   ],
   "source": [
    "y_test_pred = model.predict(X_test_pad)\n",
    "y_test_pred_labels = np.argmax(y_test_pred, axis=1)\n",
    "test_df['Sentiment'] = label_encoder.inverse_transform(y_test_pred_labels)"
   ]
  },
  {
   "cell_type": "code",
   "execution_count": 23,
   "id": "751e55b1",
   "metadata": {},
   "outputs": [],
   "source": [
    "submission = pd.DataFrame({\n",
    "    'News ID': test_df['News ID'],\n",
    "    'Sentiment': test_df['Sentiment']\n",
    "})\n",
    "\n",
    "file_path = '/Users/azaruddin.sk/Desktop/YUbi/NLP Task/submission_LSTM.csv'\n",
    "\n",
    "submission.to_csv(file_path, index=False)"
   ]
  }
 ],
 "metadata": {
  "kernelspec": {
   "display_name": "Python 3 (ipykernel)",
   "language": "python",
   "name": "python3"
  },
  "language_info": {
   "codemirror_mode": {
    "name": "ipython",
    "version": 3
   },
   "file_extension": ".py",
   "mimetype": "text/x-python",
   "name": "python",
   "nbconvert_exporter": "python",
   "pygments_lexer": "ipython3",
   "version": "3.11.8"
  }
 },
 "nbformat": 4,
 "nbformat_minor": 5
}
