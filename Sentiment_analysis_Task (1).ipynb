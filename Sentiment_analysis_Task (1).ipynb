{
 "cells": [
  {
   "cell_type": "code",
   "execution_count": 3,
   "id": "f7aedd83",
   "metadata": {},
   "outputs": [],
   "source": [
    "import pandas as pd\n",
    "\n",
    "#Naibe Baise\n",
    "#SVM\n",
    "#Xg boost\n",
    "#logistic_regression\n",
    "\n",
    "train_df = pd.read_csv('/Users/azaruddin.sk/Desktop/YUbi/NLP Task/train.tsv', sep='\\t')\n",
    "test_df = pd.read_csv('/Users/azaruddin.sk/Desktop/YUbi/NLP Task/test.tsv', sep='\\t')\n",
    "\n",
    "#print(train_df.isnull().sum())\n",
    "#print(test_df.isnull().sum())\n",
    "train_df = train_df.drop(columns=['Sector'])\n",
    "test_df = test_df.drop(columns=['Sector'])\n",
    "train_df['News Title'].fillna('', inplace=True)\n",
    "train_df['News Description'].fillna('', inplace=True)\n",
    "test_df['News Title'].fillna('', inplace=True)\n",
    "test_df['News Description'].fillna('', inplace=True)\n",
    "\n",
    "train_df['text'] = train_df['News Title'] + \" \" + train_df['News Description']\n",
    "test_df['text'] = test_df['News Title'] + \" \" + test_df['News Description']"
   ]
  },
  {
   "cell_type": "code",
   "execution_count": 2,
   "id": "ff859981",
   "metadata": {},
   "outputs": [
    {
     "name": "stderr",
     "output_type": "stream",
     "text": [
      "[nltk_data] Downloading package wordnet to\n",
      "[nltk_data]     /Users/azaruddin.sk/nltk_data...\n",
      "[nltk_data]   Package wordnet is already up-to-date!\n",
      "[nltk_data] Downloading package stopwords to\n",
      "[nltk_data]     /Users/azaruddin.sk/nltk_data...\n",
      "[nltk_data]   Package stopwords is already up-to-date!\n"
     ]
    }
   ],
   "source": [
    "from nltk.tokenize import RegexpTokenizer  #tokenizer library regexptokenizer to remove punctuation\n",
    "import nltk\n",
    "nltk.download('wordnet')\n",
    "from nltk.stem import WordNetLemmatizer\n",
    "nltk.download('stopwords')\n",
    "stop_words = list(set(nltk.corpus.stopwords.words('english'))) #decalred stop_words as variable for getting stopwords from english langaugae & added set() function to remove duplicate stop_words\n",
    "lemmatizer = WordNetLemmatizer()\n",
    "\n",
    "def text_preprocess(input_text):\n",
    "    if not isinstance(input_text, str):\n",
    "        return \"\"\n",
    "    input_text = input_text.lower()\n",
    "    input_text = input_text.replace(\"\\n\",\" \")\n",
    "    tokenizer = RegexpTokenizer(r'\\w+')\n",
    "    tokens = tokenizer.tokenize(input_text)\n",
    "    clean_tokens = []\n",
    "    for token in tokens:\n",
    "        if (token not in stop_words) and (len(token) >2):\n",
    "            token = lemmatizer.lemmatize(token)\n",
    "            clean_tokens.append(token)\n",
    "    return \" \".join(clean_tokens)"
   ]
  },
  {
   "cell_type": "code",
   "execution_count": 4,
   "id": "2d0e0939",
   "metadata": {
    "scrolled": true
   },
   "outputs": [],
   "source": [
    "clean_text = []\n",
    "for text in train_df['text'].values:\n",
    "    cl_txt = text_preprocess(text)\n",
    "    clean_text.append(cl_txt)\n",
    "train_df['clean_text'] = clean_text\n",
    "\n",
    "\n",
    "pre_text = []\n",
    "for text in test_df['text'].values:\n",
    "    cl_txt = text_preprocess(text)\n",
    "    pre_text.append(cl_txt)\n",
    "test_df['clean_text'] = pre_text"
   ]
  },
  {
   "cell_type": "code",
   "execution_count": 5,
   "id": "ce48d4e3",
   "metadata": {},
   "outputs": [],
   "source": [
    "from sklearn.feature_extraction.text import TfidfVectorizer\n",
    "\n",
    "vectorizer = TfidfVectorizer(max_features=5000)\n",
    "X_train = vectorizer.fit_transform(train_df['clean_text'])\n",
    "X_test = vectorizer.transform(test_df['clean_text'])"
   ]
  },
  {
   "cell_type": "code",
   "execution_count": 7,
   "id": "bf4b0d88",
   "metadata": {},
   "outputs": [
    {
     "name": "stdout",
     "output_type": "stream",
     "text": [
      "              precision    recall  f1-score   support\n",
      "\n",
      "       mixed       0.65      0.14      0.22       412\n",
      "    negative       0.69      0.49      0.57      3195\n",
      "     neutral       0.86      0.92      0.89     26044\n",
      "    positive       0.69      0.61      0.65      6699\n",
      "\n",
      "    accuracy                           0.82     36350\n",
      "   macro avg       0.72      0.54      0.58     36350\n",
      "weighted avg       0.81      0.82      0.81     36350\n",
      "\n"
     ]
    }
   ],
   "source": [
    "#Logistic Regressioin\n",
    "\n",
    "\n",
    "from sklearn.model_selection import train_test_split\n",
    "from sklearn.linear_model import LogisticRegression\n",
    "from sklearn.metrics import classification_report\n",
    "\n",
    "X_train_text, X_val_text, y_train, y_val = train_test_split(X_train, train_df['Sentiment'], test_size=0.2, random_state=42)\n",
    "\n",
    "model_1 = LogisticRegression(max_iter=1000)\n",
    "model_1.fit(X_train_text, y_train)\n",
    "\n",
    "y_val_pred = model_1.predict(X_val_text)\n",
    "print(classification_report(y_val, y_val_pred))\n",
    "\n",
    "y_test_pred = model_1.predict(X_test)\n",
    "\n",
    "\n",
    "submission = pd.DataFrame({\n",
    "    'News ID': test_df['News ID'],\n",
    "    'Sentiment': y_test_pred\n",
    "})\n",
    "\n",
    "file_path = '/Users/azaruddin.sk/Desktop/YUbi/NLP Task/submission_Logistic_re.csv'\n",
    "\n",
    "submission.to_csv(file_path, index=False)"
   ]
  },
  {
   "cell_type": "code",
   "execution_count": 8,
   "id": "139d32cf",
   "metadata": {},
   "outputs": [
    {
     "name": "stdout",
     "output_type": "stream",
     "text": [
      "              precision    recall  f1-score   support\n",
      "\n",
      "       mixed       0.62      0.02      0.04       412\n",
      "    negative       0.61      0.39      0.47      3195\n",
      "     neutral       0.85      0.90      0.87     26044\n",
      "    positive       0.61      0.61      0.61      6699\n",
      "\n",
      "    accuracy                           0.79     36350\n",
      "   macro avg       0.67      0.48      0.50     36350\n",
      "weighted avg       0.78      0.79      0.78     36350\n",
      "\n"
     ]
    }
   ],
   "source": [
    "#Naive Bayse\n",
    "\n",
    "from sklearn.naive_bayes import MultinomialNB\n",
    "model_2 = MultinomialNB()\n",
    "model_2.fit(X_train_text, y_train)\n",
    "\n",
    "val_predictions = model_2.predict(X_val_text)\n",
    "\n",
    "#val_accuracy = accuracy_score(y_val, val_predictions)\n",
    "#print(f\"Validation Accuracy: {val_accuracy:.4f}\")\n",
    "\n",
    "print(classification_report(y_val, val_predictions))\n",
    "\n",
    "test_predictions = model_2.predict(X_test)\n",
    "\n",
    "submission = pd.DataFrame({\n",
    "    'News ID': test_df['News ID'],\n",
    "    'Sentiment': test_predictions\n",
    "})\n",
    "\n",
    "file_path = '/Users/azaruddin.sk/Desktop/YUbi/NLP Task/submission_NB.csv'\n",
    "\n",
    "submission.to_csv(file_path, index=False)"
   ]
  },
  {
   "cell_type": "code",
   "execution_count": 9,
   "id": "d5a9c6bd",
   "metadata": {},
   "outputs": [
    {
     "name": "stdout",
     "output_type": "stream",
     "text": [
      "              precision    recall  f1-score   support\n",
      "\n",
      "       mixed       0.62      0.16      0.25       412\n",
      "    negative       0.69      0.49      0.57      3195\n",
      "     neutral       0.86      0.92      0.89     26044\n",
      "    positive       0.70      0.63      0.66      6699\n",
      "\n",
      "    accuracy                           0.82     36350\n",
      "   macro avg       0.72      0.55      0.59     36350\n",
      "weighted avg       0.81      0.82      0.81     36350\n",
      "\n"
     ]
    }
   ],
   "source": [
    "# SVM model\n",
    "\n",
    "from sklearn.svm import SVC\n",
    "from sklearn.metrics import accuracy_score, classification_report\n",
    "\n",
    "model_3 = SVC(kernel='linear', C=1.0)  # You can tune the C parameter if needed\n",
    "model_3.fit(X_train_text, y_train)\n",
    "\n",
    "val_predictions_SVC = model_3.predict(X_val_text)\n",
    "print(classification_report(y_val, val_predictions_SVC))\n",
    "\n",
    "test_predictions_SVM = model_3.predict(X_test)\n",
    "\n",
    "submission = pd.DataFrame({\n",
    "    'News ID': test_df['News ID'],\n",
    "    'Sentiment': test_predictions_SVM\n",
    "})\n",
    "\n",
    "file_path = '/Users/azaruddin.sk/Desktop/YUbi/NLP Task/submission_SVM.csv'\n",
    "\n",
    "submission.to_csv(file_path, index=False)"
   ]
  },
  {
   "cell_type": "code",
   "execution_count": 93,
   "id": "51957b54",
   "metadata": {},
   "outputs": [],
   "source": []
  }
 ],
 "metadata": {
  "kernelspec": {
   "display_name": "Python 3 (ipykernel)",
   "language": "python",
   "name": "python3"
  },
  "language_info": {
   "codemirror_mode": {
    "name": "ipython",
    "version": 3
   },
   "file_extension": ".py",
   "mimetype": "text/x-python",
   "name": "python",
   "nbconvert_exporter": "python",
   "pygments_lexer": "ipython3",
   "version": "3.11.8"
  }
 },
 "nbformat": 4,
 "nbformat_minor": 5
}
